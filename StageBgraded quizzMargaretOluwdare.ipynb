{
 "cells": [
  {
   "cell_type": "code",
   "execution_count": null,
   "id": "fc3fa736",
   "metadata": {},
   "outputs": [],
   "source": [
    "#import libraries\n",
    "import numpy as np\n",
    "from sklearn.linear_model import LinearRegression\n",
    "import pandas as pd\n",
    "import matplotlib.pyplot as plt\n",
    "import seaborn as seabornInstance \n",
    "from sklearn.model_selection import train_test_split \n",
    "from sklearn import metrics\n",
    "%matplotlib inline\n"
   ]
  },
  {
   "cell_type": "code",
   "execution_count": null,
   "id": "65159d13",
   "metadata": {},
   "outputs": [],
   "source": [
    "data=pd.read_csv(\"C:/Users/IZZYLYF/OneDrive/hamoyeGIT/MLRegression/energydata_complete.csv\")"
   ]
  },
  {
   "cell_type": "markdown",
   "id": "f4b2504f",
   "metadata": {},
   "source": [
    "DATA EXPLORATION AND PRE-PROCESSING\n",
    "\n",
    "Explore the data by checking the number of rows and columns in our datasets, as well as the statistical description of the data"
   ]
  },
  {
   "cell_type": "code",
   "execution_count": null,
   "id": "cf92b0d9",
   "metadata": {},
   "outputs": [],
   "source": [
    "data.shape"
   ]
  },
  {
   "cell_type": "code",
   "execution_count": null,
   "id": "4d0ea528",
   "metadata": {},
   "outputs": [],
   "source": [
    "data.describe()"
   ]
  },
  {
   "cell_type": "code",
   "execution_count": null,
   "id": "fb351785",
   "metadata": {},
   "outputs": [],
   "source": [
    "## to get all the columns of our data frame\n",
    "sorted(data)"
   ]
  },
  {
   "cell_type": "code",
   "execution_count": null,
   "id": "15de0f67",
   "metadata": {},
   "outputs": [],
   "source": [
    "# summarize the number of unique values in each column\n",
    "print(data.nunique())"
   ]
  },
  {
   "cell_type": "code",
   "execution_count": null,
   "id": "50b834d9",
   "metadata": {},
   "outputs": [],
   "source": [
    "#determine the data types\n",
    "print(data.info())"
   ]
  },
  {
   "cell_type": "code",
   "execution_count": null,
   "id": "5603c70d",
   "metadata": {},
   "outputs": [],
   "source": [
    "#to determine the missing entries\n",
    "data.isnull()\n",
    "\n",
    "# Count total NaN at each column in a DataFrame\n",
    "print(\" \\nCount total NaN at each column in a DataFrame : \\n\\n\",\n",
    "      data.isnull().sum())"
   ]
  },
  {
   "cell_type": "code",
   "execution_count": null,
   "id": "a8772a76",
   "metadata": {},
   "outputs": [],
   "source": [
    "#select a sample of the dataset\n",
    "subdata = data[['T2', 'T6']]"
   ]
  },
  {
   "cell_type": "code",
   "execution_count": null,
   "id": "2559a059",
   "metadata": {},
   "outputs": [],
   "source": [
    "X = subdata['T2']\n",
    "y = subdata['T6']"
   ]
  },
  {
   "cell_type": "code",
   "execution_count": null,
   "id": "7375eb86",
   "metadata": {},
   "outputs": [],
   "source": [
    "dfsubdata = pd.concat([X, y], join = 'outer', axis = 1)\n",
    "print(dfsubdata)"
   ]
  },
  {
   "cell_type": "code",
   "execution_count": null,
   "id": "a8a40ce1",
   "metadata": {},
   "outputs": [],
   "source": [
    "Linreg = LinearRegression()  \n",
    "Linreg.fit(dfsubdata[['T2']],  dfsubdata[['T6']]) "
   ]
  },
  {
   "cell_type": "code",
   "execution_count": null,
   "id": "2cee001d",
   "metadata": {},
   "outputs": [],
   "source": [
    "print(Linreg.fit(dfsubdata[['T2']],  dfsubdata[['T6']]))"
   ]
  },
  {
   "cell_type": "code",
   "execution_count": null,
   "id": "8a81d3b3",
   "metadata": {},
   "outputs": [],
   "source": [
    "#To retrieve the intercept:\n",
    "print(Linreg.intercept_)\n",
    "\n",
    "#For retrieving the slope:\n",
    "print(Linreg.coef_)\n",
    "\n",
    "#Coefficient of determination\n",
    "rsq = Linreg.score(dfsubdata[['T2']],  dfsubdata[['T6']])\n",
    "print('coefficient of determination:', rsq)"
   ]
  },
  {
   "cell_type": "code",
   "execution_count": null,
   "id": "5a1ea49a",
   "metadata": {},
   "outputs": [],
   "source": [
    "##TO FIND MEAN ABSOLUTE ERROR\n",
    "#Comoute predictions\n",
    "ypred = Linreg.intercept_ + Linreg.coef_ * dfsubdata[['T6']]\n",
    "print('predicted y:', ypred)"
   ]
  },
  {
   "cell_type": "code",
   "execution_count": 47,
   "id": "4dbbbada",
   "metadata": {},
   "outputs": [
    {
     "name": "stdout",
     "output_type": "stream",
     "text": [
      "              T6\n",
      "0     -21.714758\n",
      "1     -22.144937\n",
      "2     -22.753120\n",
      "3     -23.034961\n",
      "4     -23.183298\n",
      "...          ...\n",
      "19730  17.824583\n",
      "19731  16.489546\n",
      "19732  15.221261\n",
      "19733  12.566021\n",
      "19734   9.436101\n",
      "\n",
      "[19735 rows x 1 columns]\n"
     ]
    }
   ],
   "source": [
    "print(ypred)"
   ]
  },
  {
   "cell_type": "code",
   "execution_count": null,
   "id": "bce14de5",
   "metadata": {},
   "outputs": [],
   "source": [
    "# Calculate the RMSE\n",
    "\n",
    "from sklearn.metrics import mean_squared_error\n",
    "import math\n",
    "\n",
    "mse=np.mean((ypred - y) **2)\n",
    "rmse= math.sqrt(mse)"
   ]
  },
  {
   "cell_type": "code",
   "execution_count": null,
   "id": "e8a348dd",
   "metadata": {},
   "outputs": [],
   "source": [
    "from sklearn.metrics import mean_absolute_error\n",
    "mean_absolute_error(y_true, y_pred)"
   ]
  },
  {
   "cell_type": "code",
   "execution_count": null,
   "id": "06051be9",
   "metadata": {},
   "outputs": [],
   "source": []
  },
  {
   "cell_type": "code",
   "execution_count": null,
   "id": "2d889553",
   "metadata": {},
   "outputs": [],
   "source": [
    "## to find residual sum of squares\n",
    "\n",
    "import statsmodels.api as sm\n",
    "\n",
    "#define response variable\n",
    "y =  subdata['T6']\n",
    "\n",
    "#define predictor variables\n",
    "x = subdata['T2']\n",
    "\n",
    "#add constant to predictor variables\n",
    "x = sm.add_constant(x)\n",
    "\n",
    "#fit linear regression model\n",
    "Linmodel= sm.OLS(y, x).fit()\n",
    "\n",
    "#view model summary\n",
    "print(Linmodel.summary())\n"
   ]
  },
  {
   "cell_type": "code",
   "execution_count": null,
   "id": "1df3f9f0",
   "metadata": {},
   "outputs": [],
   "source": [
    "print(Linmodel.ssr)"
   ]
  },
  {
   "cell_type": "code",
   "execution_count": null,
   "id": "6b26f58d",
   "metadata": {},
   "outputs": [],
   "source": []
  },
  {
   "cell_type": "code",
   "execution_count": null,
   "id": "964699a8",
   "metadata": {},
   "outputs": [],
   "source": []
  }
 ],
 "metadata": {
  "kernelspec": {
   "display_name": "Python 3",
   "language": "python",
   "name": "python3"
  },
  "language_info": {
   "codemirror_mode": {
    "name": "ipython",
    "version": 3
   },
   "file_extension": ".py",
   "mimetype": "text/x-python",
   "name": "python",
   "nbconvert_exporter": "python",
   "pygments_lexer": "ipython3",
   "version": "3.8.8"
  }
 },
 "nbformat": 4,
 "nbformat_minor": 5
}
