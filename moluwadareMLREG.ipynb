{
 "cells": [
  {
   "cell_type": "markdown",
   "id": "bcbe5557",
   "metadata": {},
   "source": [
    "REGRESSION MACHINE LEARNING CASE: ENERGY EFFICIENCY CASE\n",
    "\n",
    "PROBLEM DEFINATION AND DATA SET\n",
    "    In this project, We will perform energy analysis using simple linear regression of 12 different building shapes simulated in Ecotect. The buildings differ with respect to the glazing area, the glazing area distribution, and the orientation, amongst other parameters. We simulate various settings as functions of the afore-mentioned characteristics to obtain 768 building shapes. The dataset comprises 768 samples and 8 features, aiming to predict two real valued responses.  \n",
    "    We will select a sample of the dataset and use the relative compactness column as the predictor and the heating load column the response variable. The data is sourced from [here](https://archive.ics.uci.edu/ml/datasets/Energy+efficiency).\n",
    "    "
   ]
  },
  {
   "cell_type": "markdown",
   "id": "d0f5de55",
   "metadata": {},
   "source": [
    " LOAD THE DATA SET AND LIBRARIES\n",
    "Let’s start off by loading the libraries required for this project."
   ]
  },
  {
   "cell_type": "code",
   "execution_count": 1,
   "id": "a1d5833b",
   "metadata": {},
   "outputs": [],
   "source": [
    "#import libraries\n",
    "import numpy as np\n",
    "from sklearn.linear_model import LinearRegression\n",
    "import pandas as pd\n",
    "import matplotlib.pyplot as plt\n",
    "import seaborn as seabornInstance \n",
    "from sklearn.model_selection import train_test_split \n",
    "from sklearn import metrics\n",
    "%matplotlib inline\n",
    "\n"
   ]
  },
  {
   "cell_type": "markdown",
   "id": "b3b6cd54",
   "metadata": {},
   "source": [
    "The following command will load the data set "
   ]
  },
  {
   "cell_type": "code",
   "execution_count": 2,
   "id": "df70816c",
   "metadata": {},
   "outputs": [],
   "source": [
    "energy = pd.read_csv(\"C:/Users/IZZYLYF/OneDrive/hamoyeGIT/MLRegression/ENB2012_data.csv\")"
   ]
  },
  {
   "cell_type": "markdown",
   "id": "844c96ec",
   "metadata": {},
   "source": [
    "DATA EXPLORATION AND PRE-PROCESSING\n",
    "\n",
    "Explore the data by checking the number of rows and columns in our datasets, as well as the statistical description of the data"
   ]
  },
  {
   "cell_type": "code",
   "execution_count": 3,
   "id": "986e0c04",
   "metadata": {},
   "outputs": [
    {
     "data": {
      "text/plain": [
       "(1296, 12)"
      ]
     },
     "execution_count": 3,
     "metadata": {},
     "output_type": "execute_result"
    }
   ],
   "source": [
    "energy.shape"
   ]
  },
  {
   "cell_type": "code",
   "execution_count": 4,
   "id": "61932cc8",
   "metadata": {},
   "outputs": [
    {
     "data": {
      "text/html": [
       "<div>\n",
       "<style scoped>\n",
       "    .dataframe tbody tr th:only-of-type {\n",
       "        vertical-align: middle;\n",
       "    }\n",
       "\n",
       "    .dataframe tbody tr th {\n",
       "        vertical-align: top;\n",
       "    }\n",
       "\n",
       "    .dataframe thead th {\n",
       "        text-align: right;\n",
       "    }\n",
       "</style>\n",
       "<table border=\"1\" class=\"dataframe\">\n",
       "  <thead>\n",
       "    <tr style=\"text-align: right;\">\n",
       "      <th></th>\n",
       "      <th>X1</th>\n",
       "      <th>X2</th>\n",
       "      <th>X3</th>\n",
       "      <th>X4</th>\n",
       "      <th>X5</th>\n",
       "      <th>X6</th>\n",
       "      <th>X7</th>\n",
       "      <th>X8</th>\n",
       "      <th>Y1</th>\n",
       "      <th>Y2</th>\n",
       "      <th>Unnamed: 10</th>\n",
       "      <th>Unnamed: 11</th>\n",
       "    </tr>\n",
       "  </thead>\n",
       "  <tbody>\n",
       "    <tr>\n",
       "      <th>count</th>\n",
       "      <td>768.000000</td>\n",
       "      <td>768.000000</td>\n",
       "      <td>768.000000</td>\n",
       "      <td>768.000000</td>\n",
       "      <td>768.00000</td>\n",
       "      <td>768.000000</td>\n",
       "      <td>768.000000</td>\n",
       "      <td>768.00000</td>\n",
       "      <td>768.000000</td>\n",
       "      <td>768.000000</td>\n",
       "      <td>0.0</td>\n",
       "      <td>0.0</td>\n",
       "    </tr>\n",
       "    <tr>\n",
       "      <th>mean</th>\n",
       "      <td>0.764167</td>\n",
       "      <td>671.708333</td>\n",
       "      <td>318.500000</td>\n",
       "      <td>176.604167</td>\n",
       "      <td>5.25000</td>\n",
       "      <td>3.500000</td>\n",
       "      <td>0.234375</td>\n",
       "      <td>2.81250</td>\n",
       "      <td>22.307201</td>\n",
       "      <td>24.587760</td>\n",
       "      <td>NaN</td>\n",
       "      <td>NaN</td>\n",
       "    </tr>\n",
       "    <tr>\n",
       "      <th>std</th>\n",
       "      <td>0.105777</td>\n",
       "      <td>88.086116</td>\n",
       "      <td>43.626481</td>\n",
       "      <td>45.165950</td>\n",
       "      <td>1.75114</td>\n",
       "      <td>1.118763</td>\n",
       "      <td>0.133221</td>\n",
       "      <td>1.55096</td>\n",
       "      <td>10.090196</td>\n",
       "      <td>9.513306</td>\n",
       "      <td>NaN</td>\n",
       "      <td>NaN</td>\n",
       "    </tr>\n",
       "    <tr>\n",
       "      <th>min</th>\n",
       "      <td>0.620000</td>\n",
       "      <td>514.500000</td>\n",
       "      <td>245.000000</td>\n",
       "      <td>110.250000</td>\n",
       "      <td>3.50000</td>\n",
       "      <td>2.000000</td>\n",
       "      <td>0.000000</td>\n",
       "      <td>0.00000</td>\n",
       "      <td>6.010000</td>\n",
       "      <td>10.900000</td>\n",
       "      <td>NaN</td>\n",
       "      <td>NaN</td>\n",
       "    </tr>\n",
       "    <tr>\n",
       "      <th>25%</th>\n",
       "      <td>0.682500</td>\n",
       "      <td>606.375000</td>\n",
       "      <td>294.000000</td>\n",
       "      <td>140.875000</td>\n",
       "      <td>3.50000</td>\n",
       "      <td>2.750000</td>\n",
       "      <td>0.100000</td>\n",
       "      <td>1.75000</td>\n",
       "      <td>12.992500</td>\n",
       "      <td>15.620000</td>\n",
       "      <td>NaN</td>\n",
       "      <td>NaN</td>\n",
       "    </tr>\n",
       "    <tr>\n",
       "      <th>50%</th>\n",
       "      <td>0.750000</td>\n",
       "      <td>673.750000</td>\n",
       "      <td>318.500000</td>\n",
       "      <td>183.750000</td>\n",
       "      <td>5.25000</td>\n",
       "      <td>3.500000</td>\n",
       "      <td>0.250000</td>\n",
       "      <td>3.00000</td>\n",
       "      <td>18.950000</td>\n",
       "      <td>22.080000</td>\n",
       "      <td>NaN</td>\n",
       "      <td>NaN</td>\n",
       "    </tr>\n",
       "    <tr>\n",
       "      <th>75%</th>\n",
       "      <td>0.830000</td>\n",
       "      <td>741.125000</td>\n",
       "      <td>343.000000</td>\n",
       "      <td>220.500000</td>\n",
       "      <td>7.00000</td>\n",
       "      <td>4.250000</td>\n",
       "      <td>0.400000</td>\n",
       "      <td>4.00000</td>\n",
       "      <td>31.667500</td>\n",
       "      <td>33.132500</td>\n",
       "      <td>NaN</td>\n",
       "      <td>NaN</td>\n",
       "    </tr>\n",
       "    <tr>\n",
       "      <th>max</th>\n",
       "      <td>0.980000</td>\n",
       "      <td>808.500000</td>\n",
       "      <td>416.500000</td>\n",
       "      <td>220.500000</td>\n",
       "      <td>7.00000</td>\n",
       "      <td>5.000000</td>\n",
       "      <td>0.400000</td>\n",
       "      <td>5.00000</td>\n",
       "      <td>43.100000</td>\n",
       "      <td>48.030000</td>\n",
       "      <td>NaN</td>\n",
       "      <td>NaN</td>\n",
       "    </tr>\n",
       "  </tbody>\n",
       "</table>\n",
       "</div>"
      ],
      "text/plain": [
       "               X1          X2          X3          X4         X5          X6  \\\n",
       "count  768.000000  768.000000  768.000000  768.000000  768.00000  768.000000   \n",
       "mean     0.764167  671.708333  318.500000  176.604167    5.25000    3.500000   \n",
       "std      0.105777   88.086116   43.626481   45.165950    1.75114    1.118763   \n",
       "min      0.620000  514.500000  245.000000  110.250000    3.50000    2.000000   \n",
       "25%      0.682500  606.375000  294.000000  140.875000    3.50000    2.750000   \n",
       "50%      0.750000  673.750000  318.500000  183.750000    5.25000    3.500000   \n",
       "75%      0.830000  741.125000  343.000000  220.500000    7.00000    4.250000   \n",
       "max      0.980000  808.500000  416.500000  220.500000    7.00000    5.000000   \n",
       "\n",
       "               X7         X8          Y1          Y2  Unnamed: 10  Unnamed: 11  \n",
       "count  768.000000  768.00000  768.000000  768.000000          0.0          0.0  \n",
       "mean     0.234375    2.81250   22.307201   24.587760          NaN          NaN  \n",
       "std      0.133221    1.55096   10.090196    9.513306          NaN          NaN  \n",
       "min      0.000000    0.00000    6.010000   10.900000          NaN          NaN  \n",
       "25%      0.100000    1.75000   12.992500   15.620000          NaN          NaN  \n",
       "50%      0.250000    3.00000   18.950000   22.080000          NaN          NaN  \n",
       "75%      0.400000    4.00000   31.667500   33.132500          NaN          NaN  \n",
       "max      0.400000    5.00000   43.100000   48.030000          NaN          NaN  "
      ]
     },
     "execution_count": 4,
     "metadata": {},
     "output_type": "execute_result"
    }
   ],
   "source": [
    "energy.describe()"
   ]
  },
  {
   "cell_type": "markdown",
   "id": "6f61da71",
   "metadata": {},
   "source": [
    "We will rename the columns and subset the dataset and use the relative compactness column as the predictor and the heating load column the response variable."
   ]
  },
  {
   "cell_type": "code",
   "execution_count": 5,
   "id": "c3b8ac47",
   "metadata": {},
   "outputs": [],
   "source": [
    "#rename columns\n",
    "column_names = {'X1':'Relative_Compactness', 'X2': 'Surface_Area', \n",
    "                'X3':  'Wall_Area', 'X4': 'Roof_Area', 'X5': 'Overall_Height',\n",
    "                'X6': 'Orientation', 'X7': 'Glazing_Area', \n",
    "                'X8': 'Glazing_Area_Distribution', \n",
    "                'Y1': 'Heating_Load', 'Y2': 'Cooling_Load'}\n",
    "energy = energy.rename(columns=column_names)"
   ]
  },
  {
   "cell_type": "code",
   "execution_count": 6,
   "id": "a6fb6e1f",
   "metadata": {},
   "outputs": [],
   "source": [
    "#select a sample of the dataset\n",
    "subenergy = energy[['Relative_Compactness', 'Cooling_Load']]"
   ]
  },
  {
   "cell_type": "code",
   "execution_count": 7,
   "id": "44df1324",
   "metadata": {},
   "outputs": [
    {
     "data": {
      "text/html": [
       "<div>\n",
       "<style scoped>\n",
       "    .dataframe tbody tr th:only-of-type {\n",
       "        vertical-align: middle;\n",
       "    }\n",
       "\n",
       "    .dataframe tbody tr th {\n",
       "        vertical-align: top;\n",
       "    }\n",
       "\n",
       "    .dataframe thead th {\n",
       "        text-align: right;\n",
       "    }\n",
       "</style>\n",
       "<table border=\"1\" class=\"dataframe\">\n",
       "  <thead>\n",
       "    <tr style=\"text-align: right;\">\n",
       "      <th></th>\n",
       "      <th>Relative_Compactness</th>\n",
       "      <th>Cooling_Load</th>\n",
       "    </tr>\n",
       "  </thead>\n",
       "  <tbody>\n",
       "    <tr>\n",
       "      <th>count</th>\n",
       "      <td>768.000000</td>\n",
       "      <td>768.000000</td>\n",
       "    </tr>\n",
       "    <tr>\n",
       "      <th>mean</th>\n",
       "      <td>0.764167</td>\n",
       "      <td>24.587760</td>\n",
       "    </tr>\n",
       "    <tr>\n",
       "      <th>std</th>\n",
       "      <td>0.105777</td>\n",
       "      <td>9.513306</td>\n",
       "    </tr>\n",
       "    <tr>\n",
       "      <th>min</th>\n",
       "      <td>0.620000</td>\n",
       "      <td>10.900000</td>\n",
       "    </tr>\n",
       "    <tr>\n",
       "      <th>25%</th>\n",
       "      <td>0.682500</td>\n",
       "      <td>15.620000</td>\n",
       "    </tr>\n",
       "    <tr>\n",
       "      <th>50%</th>\n",
       "      <td>0.750000</td>\n",
       "      <td>22.080000</td>\n",
       "    </tr>\n",
       "    <tr>\n",
       "      <th>75%</th>\n",
       "      <td>0.830000</td>\n",
       "      <td>33.132500</td>\n",
       "    </tr>\n",
       "    <tr>\n",
       "      <th>max</th>\n",
       "      <td>0.980000</td>\n",
       "      <td>48.030000</td>\n",
       "    </tr>\n",
       "  </tbody>\n",
       "</table>\n",
       "</div>"
      ],
      "text/plain": [
       "       Relative_Compactness  Cooling_Load\n",
       "count            768.000000    768.000000\n",
       "mean               0.764167     24.587760\n",
       "std                0.105777      9.513306\n",
       "min                0.620000     10.900000\n",
       "25%                0.682500     15.620000\n",
       "50%                0.750000     22.080000\n",
       "75%                0.830000     33.132500\n",
       "max                0.980000     48.030000"
      ]
     },
     "execution_count": 7,
     "metadata": {},
     "output_type": "execute_result"
    }
   ],
   "source": [
    "subenergy.shape\n",
    "\n",
    "subenergy.describe()"
   ]
  },
  {
   "cell_type": "markdown",
   "id": "c74c2218",
   "metadata": {},
   "source": [
    "For a better understanding of our data, we will visualize our data points on a 2-D graph to see if we can manually find any relationship between the data."
   ]
  },
  {
   "cell_type": "code",
   "execution_count": 8,
   "id": "01d07ce1",
   "metadata": {},
   "outputs": [
    {
     "data": {
      "image/png": "[encoded data removed]",
      "text/plain": [
       "<Figure size 432x288 with 1 Axes>"
      ]
     },
     "metadata": {
      "needs_background": "light"
     },
     "output_type": "display_data"
    }
   ],
   "source": [
    "subenergy.plot(x='Relative_Compactness', y='Cooling_Load', style='o')  \n",
    "plt.title('Plot of rel compactness and cooling load')  \n",
    "plt.xlabel('Relative compactness')  \n",
    "plt.ylabel('Cooling load')  \n",
    "plt.show()"
   ]
  },
  {
   "cell_type": "markdown",
   "id": "2ccb9949",
   "metadata": {},
   "source": [
    "Next we will visualise the Relative compactness and Cooling Load by ploting it we can observe its shape"
   ]
  },
  {
   "cell_type": "code",
   "execution_count": 9,
   "id": "fb3bb35b",
   "metadata": {},
   "outputs": [
    {
     "name": "stderr",
     "output_type": "stream",
     "text": [
      "C:\\Anaconda\\lib\\site-packages\\seaborn\\distributions.py:2557: FutureWarning: `distplot` is a deprecated function and will be removed in a future version. Please adapt your code to use either `displot` (a figure-level function with similar flexibility) or `histplot` (an axes-level function for histograms).\n",
      "  warnings.warn(msg, FutureWarning)\n"
     ]
    },
    {
     "data": {
      "text/plain": [
       "<AxesSubplot:xlabel='Relative_Compactness', ylabel='Density'>"
      ]
     },
     "execution_count": 9,
     "metadata": {},
     "output_type": "execute_result"
    },
    {
     "data": {
      "image/png": "[encoded data removed]",
      "text/plain": [
       "<Figure size 1800x1080 with 1 Axes>"
      ]
     },
     "metadata": {
      "needs_background": "light"
     },
     "output_type": "display_data"
    }
   ],
   "source": [
    "plt.figure(figsize=(25,15))\n",
    "plt.tight_layout()\n",
    "seabornInstance.distplot(subenergy['Relative_Compactness'])"
   ]
  },
  {
   "cell_type": "code",
   "execution_count": 10,
   "id": "b40f0fa6",
   "metadata": {},
   "outputs": [
    {
     "name": "stderr",
     "output_type": "stream",
     "text": [
      "C:\\Anaconda\\lib\\site-packages\\seaborn\\distributions.py:2557: FutureWarning: `distplot` is a deprecated function and will be removed in a future version. Please adapt your code to use either `displot` (a figure-level function with similar flexibility) or `histplot` (an axes-level function for histograms).\n",
      "  warnings.warn(msg, FutureWarning)\n"
     ]
    },
    {
     "data": {
      "text/plain": [
       "<AxesSubplot:xlabel='Cooling_Load', ylabel='Density'>"
      ]
     },
     "execution_count": 10,
     "metadata": {},
     "output_type": "execute_result"
    },
    {
     "data": {
      "image/png": "[encoded data removed]",
      "text/plain": [
       "<Figure size 1080x720 with 1 Axes>"
      ]
     },
     "metadata": {
      "needs_background": "light"
     },
     "output_type": "display_data"
    }
   ],
   "source": [
    "plt.figure(figsize=(15,10))\n",
    "plt.tight_layout()\n",
    "seabornInstance.distplot(subenergy['Cooling_Load'])"
   ]
  },
  {
   "cell_type": "markdown",
   "id": "33b9cd51",
   "metadata": {},
   "source": [
    "SIMPLE REGRESSION MODEL FITTING\n",
    "\n",
    "Next we define our data set into attributes(independent variables) and labels(dependent variables) which are to be predicted. In our dataset, we have subset our data frame into two columns to predict the cooling load as it depends on relative compactment.Hence X variable is the attribute (relative compactness), and the label is Y varaible (cooling load) "
   ]
  },
  {
   "cell_type": "code",
   "execution_count": 11,
   "id": "bdef178b",
   "metadata": {},
   "outputs": [],
   "source": [
    "X = subenergy['Relative_Compactness']\n",
    "y = subenergy['Cooling_Load']"
   ]
  },
  {
   "cell_type": "markdown",
   "id": "14172792",
   "metadata": {},
   "source": [
    "We will use the mean of the columns to fill up the NaN of the columns. After which we will transform the data and use it for the simple regression."
   ]
  },
  {
   "cell_type": "code",
   "execution_count": 12,
   "id": "a976f0a6",
   "metadata": {},
   "outputs": [
    {
     "name": "stdout",
     "output_type": "stream",
     "text": [
      "0.7641666666666677\n",
      "24.58776041666671\n"
     ]
    }
   ],
   "source": [
    "print(X.mean())\n",
    "print(y.mean())"
   ]
  },
  {
   "cell_type": "code",
   "execution_count": 13,
   "id": "8fe39a98",
   "metadata": {},
   "outputs": [],
   "source": [
    "Xs= X.fillna(X.mean())\n",
    "Ys= y.fillna(y.mean())"
   ]
  },
  {
   "cell_type": "code",
   "execution_count": 14,
   "id": "90f24d36",
   "metadata": {},
   "outputs": [
    {
     "name": "stdout",
     "output_type": "stream",
     "text": [
      "      Relative_Compactness  Cooling_Load\n",
      "0                 0.980000      21.33000\n",
      "1                 0.980000      21.33000\n",
      "2                 0.980000      21.33000\n",
      "3                 0.980000      21.33000\n",
      "4                 0.900000      28.28000\n",
      "...                    ...           ...\n",
      "1291              0.764167      24.58776\n",
      "1292              0.764167      24.58776\n",
      "1293              0.764167      24.58776\n",
      "1294              0.764167      24.58776\n",
      "1295              0.764167      24.58776\n",
      "\n",
      "[1296 rows x 2 columns]\n"
     ]
    }
   ],
   "source": [
    "dfenergy = pd.concat([Xs, Ys], join = 'outer', axis = 1)\n",
    "print(dfenergy)"
   ]
  },
  {
   "cell_type": "code",
   "execution_count": null,
   "id": "83f7bc10",
   "metadata": {},
   "outputs": [],
   "source": [
    "From the above, it is evident that our data does not contain NaN. To run simple regression we will subset a sample of 55, plot the regression plot and extracts such as the intercepts, the regression coefficient and the coefficient of determination"
   ]
  },
  {
   "cell_type": "code",
   "execution_count": 15,
   "id": "bfcb217a",
   "metadata": {},
   "outputs": [],
   "source": [
    "simple_linear_reg_df = dfenergy[['Relative_Compactness', 'Cooling_Load']].sample(55, random_state=2)\n"
   ]
  },
  {
   "cell_type": "code",
   "execution_count": 16,
   "id": "f8f71388",
   "metadata": {},
   "outputs": [
    {
     "data": {
      "text/plain": [
       "<AxesSubplot:xlabel='Relative_Compactness', ylabel='Cooling_Load'>"
      ]
     },
     "execution_count": 16,
     "metadata": {},
     "output_type": "execute_result"
    },
    {
     "data": {
      "image/png": "[encoded data removed]",
      "text/plain": [
       "<Figure size 432x288 with 1 Axes>"
      ]
     },
     "metadata": {},
     "output_type": "display_data"
    }
   ],
   "source": [
    "#regression plot\n",
    "import seaborn as sns; sns.set_theme(color_codes=True)\n",
    "sns.regplot(x=\"Relative_Compactness\", y=\"Cooling_Load\", data=simple_linear_reg_df)"
   ]
  },
  {
   "cell_type": "markdown",
   "id": "4ee653f2",
   "metadata": {},
   "source": [
    "After assiging attributes and labels we will run our regression models. To do that we will import LinearRegression class, instantiate it, and call the fit() method along with our data."
   ]
  },
  {
   "cell_type": "markdown",
   "id": "5584d19e",
   "metadata": {},
   "source": [
    "To obtain various results such as coefficient of determination, intercepts, slopes, perform simple predictions and plot the regression"
   ]
  },
  {
   "cell_type": "code",
   "execution_count": 17,
   "id": "268bfa6b",
   "metadata": {},
   "outputs": [
    {
     "data": {
      "text/plain": [
       "LinearRegression()"
      ]
     },
     "execution_count": 17,
     "metadata": {},
     "output_type": "execute_result"
    }
   ],
   "source": [
    "Linreg = LinearRegression()  \n",
    "Linreg.fit(simple_linear_reg_df[['Relative_Compactness']],  simple_linear_reg_df[['Cooling_Load']])  "
   ]
  },
  {
   "cell_type": "code",
   "execution_count": 20,
   "id": "2bc766e6",
   "metadata": {},
   "outputs": [
    {
     "name": "stdout",
     "output_type": "stream",
     "text": [
      "[-29.63040342]\n",
      "[[71.76764688]]\n",
      "coefficient of determination: 0.4747540637644039\n"
     ]
    }
   ],
   "source": [
    "#To retrieve the intercept:\n",
    "print(Linreg.intercept_)\n",
    "\n",
    "#For retrieving the slope:\n",
    "print(Linreg.coef_)\n",
    "\n",
    "#Coefficient of determination\n",
    "rsq = Linreg.score(simple_linear_reg_df[['Relative_Compactness']],  simple_linear_reg_df[['Cooling_Load']])\n",
    "print('coefficient of determination:', rsq)"
   ]
  },
  {
   "cell_type": "code",
   "execution_count": 21,
   "id": "41bb0603",
   "metadata": {},
   "outputs": [
    {
     "name": "stdout",
     "output_type": "stream",
     "text": [
      "predicted y:       Relative_Compactness\n",
      "1105             25.212040\n",
      "948              25.212040\n",
      "1012             25.212040\n",
      "744              23.477655\n",
      "397              29.219067\n",
      "545              27.066038\n",
      "1175             25.212040\n",
      "969              25.212040\n",
      "993              25.212040\n",
      "1161             25.212040\n",
      "790              25.212040\n",
      "330              16.300891\n",
      "347              32.089773\n",
      "727              34.960479\n",
      "1275             25.212040\n",
      "768              25.212040\n",
      "1138             25.212040\n",
      "907              25.212040\n",
      "287              14.865538\n",
      "1141             25.212040\n",
      "851              25.212040\n",
      "909              25.212040\n",
      "542              29.219067\n",
      "848              25.212040\n",
      "181              17.736244\n",
      "732              29.219067\n",
      "436              34.960479\n",
      "977              25.212040\n",
      "550              24.913008\n",
      "1240             25.212040\n",
      "355              27.066038\n",
      "792              25.212040\n",
      "861              25.212040\n",
      "1274             25.212040\n",
      "827              25.212040\n",
      "465              19.889273\n",
      "182              17.736244\n",
      "141              14.865538\n",
      "437              34.960479\n",
      "1053             25.212040\n",
      "1207             25.212040\n",
      "911              25.212040\n",
      "146              40.701891\n",
      "127              21.324626\n",
      "20               24.913008\n",
      "739              27.066038\n",
      "199              34.960479\n",
      "1144             25.212040\n",
      "1021             25.212040\n",
      "285              14.865538\n",
      "843              25.212040\n",
      "701              21.324626\n",
      "323              19.889273\n",
      "46               14.865538\n",
      "771              25.212040\n"
     ]
    }
   ],
   "source": [
    "#Comoute predictions\n",
    "ypred = Linreg.intercept_ + Linreg.coef_ * simple_linear_reg_df[['Relative_Compactness']]\n",
    "print('predicted y:', ypred)"
   ]
  },
  {
   "cell_type": "code",
   "execution_count": null,
   "id": "1c4b88cc",
   "metadata": {},
   "outputs": [],
   "source": []
  }
 ],
 "metadata": {
  "kernelspec": {
   "display_name": "Python 3",
   "language": "python",
   "name": "python3"
  },
  "language_info": {
   "codemirror_mode": {
    "name": "ipython",
    "version": 3
   },
   "file_extension": ".py",
   "mimetype": "text/x-python",
   "name": "python",
   "nbconvert_exporter": "python",
   "pygments_lexer": "ipython3",
   "version": "3.8.8"
  }
 },
 "nbformat": 4,
 "nbformat_minor": 5
}
